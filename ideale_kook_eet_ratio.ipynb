{
 "cells": [
  {
   "cell_type": "code",
   "execution_count": 14,
   "id": "7c33cfcf",
   "metadata": {},
   "outputs": [],
   "source": [
    "import numpy as np\n",
    "import math"
   ]
  },
  {
   "cell_type": "code",
   "execution_count": null,
   "id": "2df6f3fa",
   "metadata": {},
   "outputs": [
    {
     "name": "stdout",
     "output_type": "stream",
     "text": [
      "Je moet 4288535 keer koken om op een verhouding van 0.31 of hoger te staan\n"
     ]
    },
    {
     "data": {
      "text/plain": [
       "'33 anuslikkende bitch, doe ff normaal'"
      ]
     },
     "execution_count": 107,
     "metadata": {},
     "output_type": "execute_result"
    }
   ],
   "source": [
    "p = 0.31    #dit is de gewenste kook/eet verhouding \n",
    "K = int(input(\"Hoeveel keer heb je gekookt? \"))      #aantal keren dat je hebt gekookt\n",
    "E = int(input(\"Hoeveel keer heb je meegegeten? \"))   #aantal keren dat je hebt meegegeten\n",
    "\n",
    "def find_kook_eet_strat(p,K,E): #hoe vaak moet ik koken voordat mijn kook/eet verhouding minstens 0.31 is?\n",
    "    p_min = p - 0.005 #0.305, laagste verhouding die 0.31 output geeft\n",
    "    p_max = p + 0.004 #0.314, hoogste verhouding die 0.31 output geeft\n",
    "    \n",
    "    if (K/E) > 1:\n",
    "        print(\"Hoe tf heb je vaker gekookt dan meegegeten!?\")\n",
    "    else:\n",
    "        x = math.ceil((p_min*E - K)/(1-p_min))\n",
    "        \n",
    "        if x <= 0:\n",
    "            print(\"Je verhouding is al minstens 0.31... VEAUX!\")\n",
    "        elif x>0:\n",
    "            print(f\"Je moet {x} keer koken om op een verhouding van 0.31 of hoger te staan\")\n",
    "\n",
    "        #welke aantallen moet ik koken zodat het precies 0.31 is?\n",
    "        \n",
    "        x_min = (p_min*E - K)/(1-p_min) #laagste exacte aantal koken\n",
    "        x_max = (p_max*E - K)/(1-p_max) #hoogste exacte aantal koken\n",
    "\n",
    "        if x_min >= 0 and (x_max-x_min) >= 1:   #check of er hele en positieve getallen uit komen\n",
    "            if (x_max - x_min) > 50:\n",
    "                return \"33 anuslikkende bitch, doe ff normaal\"\n",
    "\n",
    "            x_min_int = math.ceil(x_min)        #integer gemaakt\n",
    "            x_max_int = math.floor(x_max)\n",
    "\n",
    "            keren_koken = list(range(x_min_int, x_max_int + 1)) #lijst van hoevaak je kan koken\n",
    "\n",
    "            if len(keren_koken) == 1:\n",
    "                print(f\"Je moet {keren_koken[0]} keer koken om op exact 0.31 te staan.\")\n",
    "            elif len(keren_koken) == 2:\n",
    "                print(f\"Je moet {keren_koken[0]} of {keren_koken[1]} keer koken om op exact 0.31 te staan.\")\n",
    "            else:\n",
    "                opties = \", \".join(map(str, keren_koken[:-1])) + f\" of {keren_koken[-1]}\"\n",
    "                print(f\"Je moet {opties} keer koken om op exact 0.31 te staan.\")\n",
    "        elif x_min < 0 or (x_max-x_min) < 1:\n",
    "            print(\"Als je exact op 0.31 wilt staan moet je meer mee eten kut HJ\")\n",
    "\n",
    "        else: #wat is het minste aantal keren dat ik moet koken en mee moet eten zodat ik wél exact 0.31 kan staan?\n",
    "            kook_oplossing = []\n",
    "            eet_oplossing = []\n",
    "\n",
    "            for i in range(0, 31):          #probeer x = 0 t/m 31\n",
    "                for j in range(0,31):       #        y = 0 t/m 31\n",
    "                    totaal_koken = K + i\n",
    "                    totaal_eten = E + i + j\n",
    "                    verhouding = totaal_koken/totaal_eten\n",
    "                    if verhouding >= p_min and verhouding <= p_max:\n",
    "                        kook_oplossing.append(i)\n",
    "                        eet_oplossing.append(j)\n",
    "            return f\"Je moet minstens {min(kook_oplossing)} keer koken en {min(eet_oplossing)} keer mee-eten om een verhouding van 0.31 te krijgen.\"\n",
    "\n",
    "find_kook_eet_strat(p,K,E)"
   ]
  },
  {
   "cell_type": "code",
   "execution_count": null,
   "id": "d6046445",
   "metadata": {},
   "outputs": [],
   "source": []
  }
 ],
 "metadata": {
  "kernelspec": {
   "display_name": "Python 3",
   "language": "python",
   "name": "python3"
  },
  "language_info": {
   "codemirror_mode": {
    "name": "ipython",
    "version": 3
   },
   "file_extension": ".py",
   "mimetype": "text/x-python",
   "name": "python",
   "nbconvert_exporter": "python",
   "pygments_lexer": "ipython3",
   "version": "3.10.0"
  }
 },
 "nbformat": 4,
 "nbformat_minor": 5
}
